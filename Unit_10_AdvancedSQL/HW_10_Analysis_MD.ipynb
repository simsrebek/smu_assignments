{
 "cells": [
  {
   "cell_type": "markdown",
   "metadata": {},
   "source": [
    "# Rebekah Vinson HW Unit 10 Advanced SQL\n",
    "\n",
    "The weather project called _Surf's Up_ evaluated the knowledge of advanced SQL by using ORM, SQLAlchemy and Flask.\n",
    "All of my work was completed in Jupyter Notebook with the exception of Flask. \n",
    "I had to investigate and review the tables. Not only did I look at the field names but I had to determine the data within each field. Based on the information I queried for one year of data from the last data point. I created a dataframe\n",
    "and compared the date (one year vs. precipitation).\n",
    "\n",
    " \n"
   ]
  },
  {
   "cell_type": "markdown",
   "metadata": {},
   "source": [
    "I noticed the _ask_ of the homework was not specific. I added more informative dates, and formatting. Mid-September and May have high precipitation. \n",
    "For better analysis, if data was available I would look at five years of data with same dates and compare to see if we have the same spikes. \n",
    "Also I would look for similarities and anomolies in the weather patterns. This could\n",
    "require more data."
   ]
  },
  {
   "cell_type": "markdown",
   "metadata": {},
   "source": [
    "That being said, the other _ask_ was to find the station\n",
    "with the most activity which is USC00519281, 'WAIHEE 837.5, HI US. \n",
    "I have seen other data that Waikiki as the station which was the most buisiest.\n",
    "However based on my formulas I was unable to come to that conclusion.\n",
    "\n",
    "The remaining of the homework uses Flask create routes for the weather API for the queries developed."
   ]
  }
 ],
 "metadata": {
  "kernelspec": {
   "display_name": "Python 3",
   "language": "python",
   "name": "python3"
  },
  "language_info": {
   "codemirror_mode": {
    "name": "ipython",
    "version": 3
   },
   "file_extension": ".py",
   "mimetype": "text/x-python",
   "name": "python",
   "nbconvert_exporter": "python",
   "pygments_lexer": "ipython3",
   "version": "3.6.9"
  }
 },
 "nbformat": 4,
 "nbformat_minor": 2
}
